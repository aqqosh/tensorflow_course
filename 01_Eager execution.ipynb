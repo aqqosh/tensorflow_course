{
 "cells": [
  {
   "cell_type": "markdown",
   "id": "83d3191c",
   "metadata": {},
   "source": [
    "Мгновенное выполнение Tensorflow - это среда императивного программирования, которая выполняет операции немедленно, без построения графов: операции возвращают конкретные значения вместо построения вычислительного графа для последующего запуска. Это делает проце знакомство с Tensorflow и дебаггинг моделей, а так же уменьшает количество бойллерплет-кода. \n",
    "Чтобы пройти этот гайд, просто запускайте сэмплы кода ниже в интерактивном интерпретаторе питона.\n",
    "\n",
    "Мгновенное выполнение - это гибкая платформа машинного обучения для исследований и эксперементов, предоставляющая:\n",
    "\n",
    "- Интуитивно понятный интерфейс. \n",
    "Структурируйте свой код естественным образом и используйте структуры данных Python. Быстро перебирайте небольшие модели и небольшие данные.\n",
    "- Упрощенная отладка.\n",
    "Вызовите операторы напрямую, чтобы проверить работающие модели и протестировать изменения. Используйте стандартные инструменты отладки Python для немедленного сообщения об ошибках.\n",
    "- Естественный поток управления.\n",
    "Используйте поток управления Python вместо потока управления графом, что упрощает спецификацию динамических моделей. \n",
    "\n",
    "Мгновенное выполнение поддерживает большинство операций Tensorflow с GPU-ускорением."
   ]
  },
  {
   "cell_type": "code",
   "execution_count": 1,
   "id": "4cf6c112",
   "metadata": {},
   "outputs": [],
   "source": [
    "import os\n",
    "import tensorflow as tf\n",
    "import cProfile"
   ]
  },
  {
   "cell_type": "code",
   "execution_count": 2,
   "id": "91e24698",
   "metadata": {},
   "outputs": [
    {
     "data": {
      "text/plain": [
       "True"
      ]
     },
     "execution_count": 2,
     "metadata": {},
     "output_type": "execute_result"
    }
   ],
   "source": [
    "tf.executing_eagerly()"
   ]
  },
  {
   "cell_type": "code",
   "execution_count": 3,
   "id": "d30ec806",
   "metadata": {},
   "outputs": [
    {
     "name": "stdout",
     "output_type": "stream",
     "text": [
      "hello, [[4.]]\n"
     ]
    }
   ],
   "source": [
    "x = [[2.]]\n",
    "m = tf.matmul(x, x)\n",
    "print(\"hello, {}\".format(m))"
   ]
  },
  {
   "cell_type": "markdown",
   "id": "d6a3fa43",
   "metadata": {},
   "source": [
    "Включение немедленного выполнения изменяет поведение операций TensorFlow - теперь они немедленно вычисляют и возвращают  значения в Python. Объекты tf.Tensor ссылаются на конкретные значения вместо символических указателей на узлы в вычислительном графе. Поскольку нет вычислительного графа, который можно было бы построить и запустить позже в сеансе, легко проверить результаты с помощью print () или отладчика. Оценка, печать и проверка значений тензора не прерывают процесс вычисления градиентов.\n",
    "\n",
    "Немедленное выполнение прекрасно работает с NumPy. Операции NumPy принимают аргументы tf.Tensor. Операции TensorFlow tf.math преобразуют объекты Python и массивы NumPy в объекты tf.Tensor. Метод tf.Tensor.numpy возвращает значение объекта в виде массива NumPy ndarray."
   ]
  },
  {
   "cell_type": "code",
   "execution_count": 4,
   "id": "626ba00b",
   "metadata": {},
   "outputs": [
    {
     "name": "stdout",
     "output_type": "stream",
     "text": [
      "tf.Tensor(\n",
      "[[1 2]\n",
      " [3 4]], shape=(2, 2), dtype=int32)\n"
     ]
    }
   ],
   "source": [
    "a = tf.constant([[1, 2],\n",
    "                 [3, 4]])\n",
    "print(a)"
   ]
  },
  {
   "cell_type": "code",
   "execution_count": 5,
   "id": "e802cfe1",
   "metadata": {},
   "outputs": [
    {
     "name": "stdout",
     "output_type": "stream",
     "text": [
      "tf.Tensor(\n",
      "[[2 3]\n",
      " [4 5]], shape=(2, 2), dtype=int32)\n"
     ]
    }
   ],
   "source": [
    "# Broadcasting support\n",
    "b = tf.add(a, 1)\n",
    "print(b)"
   ]
  },
  {
   "cell_type": "code",
   "execution_count": 6,
   "id": "a0eba152",
   "metadata": {},
   "outputs": [
    {
     "name": "stdout",
     "output_type": "stream",
     "text": [
      "tf.Tensor(\n",
      "[[ 2  6]\n",
      " [12 20]], shape=(2, 2), dtype=int32)\n"
     ]
    }
   ],
   "source": [
    "# Operator overloading is supported\n",
    "print(a * b)"
   ]
  },
  {
   "cell_type": "code",
   "execution_count": 7,
   "id": "4eede64d",
   "metadata": {},
   "outputs": [
    {
     "name": "stdout",
     "output_type": "stream",
     "text": [
      "[[ 2  6]\n",
      " [12 20]]\n"
     ]
    }
   ],
   "source": [
    "# Use NumPy values\n",
    "import numpy as np\n",
    "\n",
    "c = np.multiply(a, b)\n",
    "print(c)"
   ]
  },
  {
   "cell_type": "code",
   "execution_count": 8,
   "id": "2921c798",
   "metadata": {},
   "outputs": [
    {
     "name": "stdout",
     "output_type": "stream",
     "text": [
      "[[1 2]\n",
      " [3 4]]\n"
     ]
    }
   ],
   "source": [
    "# Obtain numpy value from a tensor:\n",
    "print(a.numpy())"
   ]
  },
  {
   "cell_type": "markdown",
   "id": "179a6159",
   "metadata": {},
   "source": [
    "Динамический поток управления\n",
    "\n",
    "Основным преимуществом немедленного выполнения является то, что все функции основного языка доступны во время работы вашей модели. Можно, например, легко написать fizzbuzz:"
   ]
  },
  {
   "cell_type": "code",
   "execution_count": 9,
   "id": "5e5158e8",
   "metadata": {},
   "outputs": [],
   "source": [
    "def fizzbuzz(max_num):\n",
    "    counter = tf.constant(0)\n",
    "    max_num = tf.convert_to_tensor(max_num)\n",
    "    for num in range(1, max_num.numpy()+1):\n",
    "        num = tf.constant(num)\n",
    "        if int(num % 3) == 0 and int(num % 5) == 0:\n",
    "            print('FizzBuzz')\n",
    "        elif int(num % 3) == 0:\n",
    "            print('Fizz')\n",
    "        elif int(num % 5) == 0:\n",
    "            print('Buzz')\n",
    "        else:\n",
    "            print(num.numpy())\n",
    "        counter += 1"
   ]
  },
  {
   "cell_type": "code",
   "execution_count": 10,
   "id": "a840b016",
   "metadata": {},
   "outputs": [
    {
     "name": "stdout",
     "output_type": "stream",
     "text": [
      "1\n",
      "2\n",
      "Fizz\n",
      "4\n",
      "Buzz\n",
      "Fizz\n",
      "7\n",
      "8\n",
      "Fizz\n",
      "Buzz\n",
      "11\n",
      "Fizz\n",
      "13\n",
      "14\n",
      "FizzBuzz\n"
     ]
    }
   ],
   "source": [
    "fizzbuzz(15)"
   ]
  },
  {
   "cell_type": "markdown",
   "id": "0a02b738",
   "metadata": {},
   "source": [
    "Мгновенное обучение.\n",
    "Вычислительные градиенты\n",
    "\n",
    "Автоматическое дифференцирование полезно для реализации алгоритмов машинного обучения(таких как обратное распространение) в обучении нейронных сетей. Во время мгновенного выполнения используйте tf.GradientTape для последующего отслеживания операций вычисления градиентов.\n",
    "\n",
    "Вы можете использовать tf.GradientTape для обучения и/или вычисления градиентов в в режиме \"мгновенности\". Это особенно полезно для сложных тренировочных циклов.\n",
    "\n",
    "Поскольку во время каждого вызова могут происходить разные операции, все операции прямого прохода записываются на «ленту». Чтобы вычислить градиент, воспроизведите ленту в обратном направлении, а затем сбросьте ее. Конкретный tf.GradientTape может вычислять только один градиент; последующие вызовы вызывают runtime error."
   ]
  },
  {
   "cell_type": "code",
   "execution_count": 11,
   "id": "879201f9",
   "metadata": {},
   "outputs": [
    {
     "name": "stdout",
     "output_type": "stream",
     "text": [
      "tf.Tensor([[2.]], shape=(1, 1), dtype=float32)\n"
     ]
    }
   ],
   "source": [
    "w = tf.Variable([[1.0]])\n",
    "with tf.GradientTape() as tape:\n",
    "    loss = w * w\n",
    "\n",
    "grad = tape.gradient(loss, w)\n",
    "print(grad)"
   ]
  },
  {
   "cell_type": "markdown",
   "id": "9571c709",
   "metadata": {},
   "source": [
    "Обучение модели.\n",
    "\n",
    "В следующем примере создается многослойная модель, которая классифицирует стандартные рукописные цифры MNIST. Он демонстрирует оптимизатор и API слоев для построения обучаемых графов в среде активного выполнения."
   ]
  },
  {
   "cell_type": "code",
   "execution_count": 12,
   "id": "fc7b4595",
   "metadata": {},
   "outputs": [],
   "source": [
    "# Fetch and format the mnist data\n",
    "(mnist_images, mnist_labels), _ = tf.keras.datasets.mnist.load_data()\n",
    "\n",
    "dataset = tf.data.Dataset.from_tensor_slices(\n",
    "  (tf.cast(mnist_images[...,tf.newaxis]/255, tf.float32),\n",
    "   tf.cast(mnist_labels,tf.int64)))\n",
    "dataset = dataset.shuffle(1000).batch(32)"
   ]
  },
  {
   "cell_type": "code",
   "execution_count": 13,
   "id": "c1e4d8df",
   "metadata": {},
   "outputs": [],
   "source": [
    "# Build the model\n",
    "mnist_model = tf.keras.Sequential([\n",
    "  tf.keras.layers.Conv2D(16,[3,3], activation='relu',\n",
    "                         input_shape=(None, None, 1)),\n",
    "  tf.keras.layers.Conv2D(16,[3,3], activation='relu'),\n",
    "  tf.keras.layers.GlobalAveragePooling2D(),\n",
    "  tf.keras.layers.Dense(10)\n",
    "])"
   ]
  },
  {
   "cell_type": "code",
   "execution_count": 14,
   "id": "b9a3b83c",
   "metadata": {},
   "outputs": [
    {
     "name": "stdout",
     "output_type": "stream",
     "text": [
      "Logits:  [[ 0.02827129  0.06314638 -0.00411888  0.05851702  0.04092003 -0.01320333\n",
      "   0.03471756 -0.02061576  0.03115047 -0.02320231]]\n"
     ]
    }
   ],
   "source": [
    "for images,labels in dataset.take(1):\n",
    "    print(\"Logits: \", mnist_model(images[0:1]).numpy())"
   ]
  },
  {
   "cell_type": "markdown",
   "id": "e40421e1",
   "metadata": {},
   "source": [
    "Хотя модели keras имеют встроенный цикл обучения (с использованием метода fit), иногда вам требуется дополнительная настройка. Вот пример цикла обучения, реализованного с помощью eager:"
   ]
  },
  {
   "cell_type": "code",
   "execution_count": 15,
   "id": "73fc952b",
   "metadata": {},
   "outputs": [],
   "source": [
    "optimizer = tf.keras.optimizers.Adam()\n",
    "loss_object = tf.keras.losses.SparseCategoricalCrossentropy(from_logits=True)\n",
    "\n",
    "loss_history = []"
   ]
  },
  {
   "cell_type": "code",
   "execution_count": 16,
   "id": "c89985b6",
   "metadata": {},
   "outputs": [],
   "source": [
    "def train_step(images, labels):\n",
    "    with tf.GradientTape() as tape:\n",
    "        logits = mnist_model(images, training=True)\n",
    "\n",
    "        # Add asserts to check the shape of the output.\n",
    "        tf.debugging.assert_equal(logits.shape, (32, 10))\n",
    "\n",
    "        loss_value = loss_object(labels, logits)\n",
    "\n",
    "    loss_history.append(loss_value.numpy().mean())\n",
    "    grads = tape.gradient(loss_value, mnist_model.trainable_variables)\n",
    "    optimizer.apply_gradients(zip(grads, mnist_model.trainable_variables))"
   ]
  },
  {
   "cell_type": "code",
   "execution_count": 17,
   "id": "fe11d278",
   "metadata": {},
   "outputs": [],
   "source": [
    "def train(epochs):\n",
    "    for epoch in range(epochs):\n",
    "        for (batch, (images, labels)) in enumerate(dataset):\n",
    "            train_step(images, labels)\n",
    "        print ('Epoch {} finished'.format(epoch))"
   ]
  },
  {
   "cell_type": "code",
   "execution_count": 18,
   "id": "e0e4f101",
   "metadata": {},
   "outputs": [
    {
     "name": "stdout",
     "output_type": "stream",
     "text": [
      "Epoch 0 finished\n",
      "Epoch 1 finished\n",
      "Epoch 2 finished\n"
     ]
    }
   ],
   "source": [
    "train(epochs = 3)"
   ]
  },
  {
   "cell_type": "code",
   "execution_count": 22,
   "id": "b80f6ec9",
   "metadata": {},
   "outputs": [
    {
     "data": {
      "text/plain": [
       "Text(0, 0.5, 'Loss [entropy]')"
      ]
     },
     "execution_count": 22,
     "metadata": {},
     "output_type": "execute_result"
    },
    {
     "data": {
      "image/png": "[encoded data removed]",
      "text/plain": [
       "<Figure size 1152x288 with 1 Axes>"
      ]
     },
     "metadata": {},
     "output_type": "display_data"
    }
   ],
   "source": [
    "import matplotlib.pyplot as plt\n",
    "from jupyterthemes import jtplot\n",
    "jtplot.style(theme='onedork')\n",
    "jtplot.style(context='talk', fscale=1.4, spines=False, gridlines='--')\n",
    "jtplot.style(ticks=True, grid=False, figsize=(20, 5))\n",
    "\n",
    "plt.plot(loss_history)\n",
    "plt.xlabel('Batch #')\n",
    "plt.ylabel('Loss [entropy]')"
   ]
  },
  {
   "cell_type": "markdown",
   "id": "eccdd3cb",
   "metadata": {},
   "source": [
    "Переменные и оптимизаторы\n",
    "\n",
    "Объекты tf.Variable хранят изменяемые tf.Tensor-подобные значения, к которым осуществляется доступ во время обучения, чтобы упростить автоматическое дифференцирвоание.\n",
    "\n",
    "Коллекции переменных могут быть инкапсулированы вместе с методами, которые с ними работают в слои или модели. Основное различие между слоями и моделями заключается в том, что модели добавляют такие методы, как Model.fit, Model.evaluate и Model.save.\n",
    "\n",
    "Например, приведенный выше пример автоматического дифференцирования можно переписать: "
   ]
  },
  {
   "cell_type": "code",
   "execution_count": 24,
   "id": "265aaa81",
   "metadata": {},
   "outputs": [],
   "source": [
    "class Linear(tf.keras.Model):\n",
    "    def __init__(self):\n",
    "        super(Linear, self).__init__()\n",
    "        self.W = tf.Variable(5., name='weight')\n",
    "        self.B = tf.Variable(10., name='bias')\n",
    "    def call(self, inputs):\n",
    "        return inputs * self.W + self.B"
   ]
  },
  {
   "cell_type": "code",
   "execution_count": 25,
   "id": "98218652",
   "metadata": {},
   "outputs": [],
   "source": [
    "# A toy dataset of points around 3 * x + 2\n",
    "NUM_EXAMPLES = 2000\n",
    "training_inputs = tf.random.normal([NUM_EXAMPLES])\n",
    "noise = tf.random.normal([NUM_EXAMPLES])\n",
    "training_outputs = training_inputs * 3 + 2 + noise\n",
    "\n",
    "# The loss function to be optimized\n",
    "def loss(model, inputs, targets):\n",
    "    error = model(inputs) - targets\n",
    "    return tf.reduce_mean(tf.square(error))\n",
    "\n",
    "def grad(model, inputs, targets):\n",
    "    with tf.GradientTape() as tape:\n",
    "        loss_value = loss(model, inputs, targets)\n",
    "    return tape.gradient(loss_value, [model.W, model.B])"
   ]
  },
  {
   "cell_type": "markdown",
   "id": "9fe071a3",
   "metadata": {},
   "source": [
    "Создайте модель.\n",
    "Производные функции потерь по параметрам модели.\n",
    "Стратегия обновления переменных на основе производных."
   ]
  },
  {
   "cell_type": "code",
   "execution_count": 26,
   "id": "9337f64b",
   "metadata": {},
   "outputs": [
    {
     "name": "stdout",
     "output_type": "stream",
     "text": [
      "Initial loss: 67.999\n",
      "Loss at step 000: 65.406\n",
      "Loss at step 020: 30.258\n",
      "Loss at step 040: 14.304\n",
      "Loss at step 060: 7.050\n",
      "Loss at step 080: 3.746\n",
      "Loss at step 100: 2.238\n",
      "Loss at step 120: 1.550\n",
      "Loss at step 140: 1.235\n",
      "Loss at step 160: 1.090\n",
      "Loss at step 180: 1.024\n",
      "Loss at step 200: 0.994\n",
      "Loss at step 220: 0.980\n",
      "Loss at step 240: 0.973\n",
      "Loss at step 260: 0.970\n",
      "Loss at step 280: 0.969\n"
     ]
    }
   ],
   "source": [
    "model = Linear()\n",
    "optimizer = tf.keras.optimizers.SGD(learning_rate=0.01)\n",
    "\n",
    "print(\"Initial loss: {:.3f}\".format(loss(model, training_inputs, training_outputs)))\n",
    "\n",
    "steps = 300\n",
    "for i in range(steps):\n",
    "    grads = grad(model, training_inputs, training_outputs)\n",
    "    optimizer.apply_gradients(zip(grads, [model.W, model.B]))\n",
    "    if i % 20 == 0:\n",
    "        print(\"Loss at step {:03d}: {:.3f}\".format(i, loss(model, training_inputs, training_outputs)))"
   ]
  },
  {
   "cell_type": "code",
   "execution_count": 27,
   "id": "a381c375",
   "metadata": {},
   "outputs": [
    {
     "name": "stdout",
     "output_type": "stream",
     "text": [
      "Final loss: 0.968\n"
     ]
    }
   ],
   "source": [
    "print(\"Final loss: {:.3f}\".format(loss(model, training_inputs, training_outputs)))"
   ]
  },
  {
   "cell_type": "code",
   "execution_count": 28,
   "id": "d63ad693",
   "metadata": {},
   "outputs": [
    {
     "name": "stdout",
     "output_type": "stream",
     "text": [
      "W = 3.013296365737915, B = 1.9718258380889893\n"
     ]
    }
   ],
   "source": [
    "print(\"W = {}, B = {}\".format(model.W.numpy(), model.B.numpy()))"
   ]
  },
  {
   "cell_type": "markdown",
   "id": "3a0efd19",
   "metadata": {},
   "source": [
    "Объектно-ориентированное сохранение.\n",
    "\n",
    "tf.keras.Model включает удобный save_weights метод, позволяющий легко создать checkpoint:"
   ]
  },
  {
   "cell_type": "code",
   "execution_count": 30,
   "id": "18ea93f8",
   "metadata": {},
   "outputs": [],
   "source": [
    "model.save_weights('weights')\n",
    "status = model.load_weights('weights')"
   ]
  },
  {
   "cell_type": "markdown",
   "id": "aaa7f81d",
   "metadata": {},
   "source": [
    "Используя tf.train.Checkpoint можно полностью контролировать этот процесс.\n",
    "Этот раздел представляет собой сокращенную версию руководства по чекпойнтам."
   ]
  },
  {
   "cell_type": "code",
   "execution_count": 31,
   "id": "7b646c38",
   "metadata": {},
   "outputs": [
    {
     "name": "stdout",
     "output_type": "stream",
     "text": [
      "<tf.Variable 'Variable:0' shape=() dtype=float32, numpy=2.0>\n"
     ]
    }
   ],
   "source": [
    "x = tf.Variable(10.)\n",
    "checkpoint = tf.train.Checkpoint(x=x)\n",
    "\n",
    "x.assign(2.)   # Assign a new value to the variables and save.\n",
    "checkpoint_path = './ckpt/'\n",
    "checkpoint.save(checkpoint_path)\n",
    "\n",
    "'./ckpt/-1'\n",
    "\n",
    "x.assign(11.)  # Change the variable after saving.\n",
    "\n",
    "# Restore values from the checkpoint\n",
    "checkpoint.restore(tf.train.latest_checkpoint(checkpoint_path))\n",
    "\n",
    "print(x)  # => 2.0"
   ]
  },
  {
   "cell_type": "markdown",
   "id": "4ae54d11",
   "metadata": {},
   "source": [
    "Для сохранения и загрузки моделей tf.train.Checkpoint сохраняет внутреннее состояние объектов, не требуя скрытых переменных. Чтобы записать состояние модели, оптимизатора и глобального шага, передайте их в tf.train.Checkpoint:"
   ]
  },
  {
   "cell_type": "code",
   "execution_count": null,
   "id": "16b45e4a",
   "metadata": {},
   "outputs": [],
   "source": [
    "model = tf.keras.Sequential([\n",
    "    tf.keras.layers.Conv2D(16,[3,3], activation='relu'),\n",
    "    tf.keras.layers.GlobalAveragePooling2D(),\n",
    "    tf.keras.layers.Dense(10)\n",
    "])\n",
    "\n",
    "optimizer = tf.keras.optimizers.Adam(learning_rate=0.001)\n",
    "checkpoint_dir = 'path/to/model_dir'\n",
    "if not os.path.exists(checkpoint_dir):\n",
    "    os.makedirs(checkpoint_dir)\n",
    "checkpoint_prefix = os.path.join(checkpoint_dir, \"ckpt\")\n",
    "root = tf.train.Checkpoint(optimizer=optimizer,\n",
    "                           model=model)\n",
    "\n",
    "root.save(checkpoint_prefix)\n",
    "root.restore(tf.train.latest_checkpoint(checkpoint_dir))"
   ]
  }
 ],
 "metadata": {
  "kernelspec": {
   "display_name": "Python 3 (ipykernel)",
   "language": "python",
   "name": "python3"
  },
  "language_info": {
   "codemirror_mode": {
    "name": "ipython",
    "version": 3
   },
   "file_extension": ".py",
   "mimetype": "text/x-python",
   "name": "python",
   "nbconvert_exporter": "python",
   "pygments_lexer": "ipython3",
   "version": "3.9.5"
  }
 },
 "nbformat": 4,
 "nbformat_minor": 5
}
