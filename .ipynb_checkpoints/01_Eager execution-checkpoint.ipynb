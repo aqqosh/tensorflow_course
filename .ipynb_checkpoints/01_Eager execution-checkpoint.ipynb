{
 "cells": [
  {
   "cell_type": "markdown",
   "id": "5b678a73",
   "metadata": {},
   "source": [
    "Мгновенное выполнение Tensorflow - это среда императивного программирования, которая выполняет операции немедленно, без построения графов: операции возвращают конкретные значения вместо построения вычислительного графа для последующего запуска. Это делает проце знакомство с Tensorflow и дебаггинг моделей, а так же уменьшает количество бойллерплет-кода. \n",
    "Чтобы пройти этот гайд, просто запускайте сэмплы кода ниже в интерактивном интерпретаторе питона.\n",
    "\n",
    "Мгноверрное выполнение - это гибкая платформа машинного обучения для исследований и эксперементов, предоставляющая:\n",
    "\n",
    "- Интуитивно понятный интерфейс. \n",
    "Структурируйте свой код естественным образом и используйте структуры данных Python. Быстро перебирайте небольшие модели и небольшие данные.\n",
    "- Упрощенная отладка.\n",
    "Вызовите операторы напрямую, чтобы проверить работающие модели и протестировать изменения. Используйте стандартные инструменты отладки Python для немедленного сообщения об ошибках.\n",
    "- Естественный поток управления.\n",
    "Используйте поток управления Python вместо потока управления графом, что упрощает спецификацию динамических моделей. \n",
    "\n",
    "Мгновенное выполнение поддерживает большинство операций Tensorflow с GPU-ускорением."
   ]
  },
  {
   "cell_type": "code",
   "execution_count": 1,
   "id": "6ca641e8",
   "metadata": {},
   "outputs": [],
   "source": [
    "import os\n",
    "import tensorflow as tf\n",
    "import cProfile"
   ]
  },
  {
   "cell_type": "code",
   "execution_count": 3,
   "id": "f8aa598b",
   "metadata": {},
   "outputs": [
    {
     "data": {
      "text/plain": [
       "True"
      ]
     },
     "execution_count": 3,
     "metadata": {},
     "output_type": "execute_result"
    }
   ],
   "source": [
    "tf.executing_eagerly()"
   ]
  },
  {
   "cell_type": "code",
   "execution_count": 4,
   "id": "27b29bbc",
   "metadata": {},
   "outputs": [
    {
     "name": "stdout",
     "output_type": "stream",
     "text": [
      "hello, [[4.]]\n"
     ]
    }
   ],
   "source": [
    "x = [[2.]]\n",
    "m = tf.matmul(x, x)\n",
    "print(\"hello, {}\".format(m))"
   ]
  },
  {
   "cell_type": "markdown",
   "id": "36f1b3ba",
   "metadata": {},
   "source": [
    "Включение немедленного выполнения изменяет поведение операций TensorFlow - теперь они немедленно вычисляют и возвращают  значения в Python. Объекты tf.Tensor ссылаются на конкретные значения вместо символических указателей на узлы в вычислительном графе. Поскольку нет вычислительного графа, который можно было бы построить и запустить позже в сеансе, легко проверить результаты с помощью print () или отладчика. Оценка, печать и проверка значений тензора не прерывают процесс вычисления градиентов.\n",
    "\n",
    "Немедленное выполнение прекрасно работает с NumPy. Операции NumPy принимают аргументы tf.Tensor. Операции TensorFlow tf.math преобразуют объекты Python и массивы NumPy в объекты tf.Tensor. Метод tf.Tensor.numpy возвращает значение объекта в виде массива NumPy ndarray."
   ]
  },
  {
   "cell_type": "code",
   "execution_count": 5,
   "id": "fb850be6",
   "metadata": {},
   "outputs": [
    {
     "name": "stdout",
     "output_type": "stream",
     "text": [
      "tf.Tensor(\n",
      "[[1 2]\n",
      " [3 4]], shape=(2, 2), dtype=int32)\n"
     ]
    }
   ],
   "source": [
    "a = tf.constant([[1, 2],\n",
    "                 [3, 4]])\n",
    "print(a)"
   ]
  },
  {
   "cell_type": "code",
   "execution_count": 6,
   "id": "a5d769df",
   "metadata": {},
   "outputs": [
    {
     "name": "stdout",
     "output_type": "stream",
     "text": [
      "tf.Tensor(\n",
      "[[2 3]\n",
      " [4 5]], shape=(2, 2), dtype=int32)\n"
     ]
    }
   ],
   "source": [
    "# Broadcasting support\n",
    "b = tf.add(a, 1)\n",
    "print(b)"
   ]
  },
  {
   "cell_type": "code",
   "execution_count": 7,
   "id": "b6b800b3",
   "metadata": {},
   "outputs": [
    {
     "name": "stdout",
     "output_type": "stream",
     "text": [
      "tf.Tensor(\n",
      "[[ 2  6]\n",
      " [12 20]], shape=(2, 2), dtype=int32)\n"
     ]
    }
   ],
   "source": [
    "# Operator overloading is supported\n",
    "print(a * b)"
   ]
  },
  {
   "cell_type": "code",
   "execution_count": 8,
   "id": "44f7d4ba",
   "metadata": {},
   "outputs": [
    {
     "name": "stdout",
     "output_type": "stream",
     "text": [
      "[[ 2  6]\n",
      " [12 20]]\n"
     ]
    }
   ],
   "source": [
    "# Use NumPy values\n",
    "import numpy as np\n",
    "\n",
    "c = np.multiply(a, b)\n",
    "print(c)"
   ]
  },
  {
   "cell_type": "code",
   "execution_count": 10,
   "id": "79677cc3",
   "metadata": {},
   "outputs": [
    {
     "name": "stdout",
     "output_type": "stream",
     "text": [
      "[[1 2]\n",
      " [3 4]]\n"
     ]
    }
   ],
   "source": [
    "# Obtain numpy value from a tensor:\n",
    "print(a.numpy())"
   ]
  },
  {
   "cell_type": "markdown",
   "id": "62261f3a",
   "metadata": {},
   "source": [
    "Динамический поток управления\n",
    "\n",
    "Основным преимуществом немедленного выполнения является то, что все функции основного языка доступны во время работы вашей модели. Можно, например, легко написать fizzbuzz:"
   ]
  },
  {
   "cell_type": "code",
   "execution_count": 11,
   "id": "899cb980",
   "metadata": {},
   "outputs": [],
   "source": [
    "def fizzbuzz(max_num):\n",
    "    counter = tf.constant(0)\n",
    "    max_num = tf.convert_to_tensor(max_num)\n",
    "    for num in range(1, max_num.numpy()+1):\n",
    "        num = tf.constant(num)\n",
    "        if int(num % 3) == 0 and int(num % 5) == 0:\n",
    "            print('FizzBuzz')\n",
    "        elif int(num % 3) == 0:\n",
    "            print('Fizz')\n",
    "        elif int(num % 5) == 0:\n",
    "            print('Buzz')\n",
    "        else:\n",
    "            print(num.numpy())\n",
    "        counter += 1"
   ]
  },
  {
   "cell_type": "code",
   "execution_count": 12,
   "id": "da292173",
   "metadata": {},
   "outputs": [
    {
     "name": "stdout",
     "output_type": "stream",
     "text": [
      "1\n",
      "2\n",
      "Fizz\n",
      "4\n",
      "Buzz\n",
      "Fizz\n",
      "7\n",
      "8\n",
      "Fizz\n",
      "Buzz\n",
      "11\n",
      "Fizz\n",
      "13\n",
      "14\n",
      "FizzBuzz\n"
     ]
    }
   ],
   "source": [
    "fizzbuzz(15)"
   ]
  },
  {
   "cell_type": "markdown",
   "id": "81b77736",
   "metadata": {},
   "source": [
    "Мгновенное обучение.\n",
    "Вычислительные градиенты\n",
    "\n",
    "Автоматическое дифференцирование полезно для реализации алгоритмов машинного обучения(таких как обратное распространение) в обучении нейронных сетей. Во время мгновенного выполнения используйте tf.GradientTape для последующего отслеживания операций вычисления градиентов.\n",
    "\n",
    "Вы можете использовать tf.GradientTape для обучения и/или вычисления градиентов в в режиме \"мгновенности\". Это особенно полезно для сложных тренировочных циклов.\n",
    "\n",
    "Поскольку во время каждого вызова могут происходить разные операции, все операции прямого прохода записываются на «ленту». Чтобы вычислить градиент, воспроизведите ленту в обратном направлении, а затем сбросьте ее. Конкретный tf.GradientTape может вычислять только один градиент; последующие вызовы вызывают runtime error."
   ]
  },
  {
   "cell_type": "code",
   "execution_count": 15,
   "id": "d059d8ab",
   "metadata": {},
   "outputs": [
    {
     "name": "stdout",
     "output_type": "stream",
     "text": [
      "tf.Tensor([[2.]], shape=(1, 1), dtype=float32)\n"
     ]
    }
   ],
   "source": [
    "w = tf.Variable([[1.0]])\n",
    "with tf.GradientTape() as tape:\n",
    "    loss = w * w\n",
    "\n",
    "grad = tape.gradient(loss, w)\n",
    "print(grad)"
   ]
  },
  {
   "cell_type": "markdown",
   "id": "cf14e58f",
   "metadata": {},
   "source": [
    "Обучение модели.\n",
    "\n",
    "В следующем примере создается многослойная модель, которая классифицирует стандартные рукописные цифры MNIST. Он демонстрирует оптимизатор и API слоев для построения обучаемых графов в среде активного выполнения."
   ]
  },
  {
   "cell_type": "code",
   "execution_count": 16,
   "id": "e3e4a0c5",
   "metadata": {},
   "outputs": [
    {
     "name": "stdout",
     "output_type": "stream",
     "text": [
      "Downloading data from https://storage.googleapis.com/tensorflow/tf-keras-datasets/mnist.npz\n",
      "11493376/11490434 [==============================] - 1s 0us/step\n"
     ]
    }
   ],
   "source": [
    "# Fetch and format the mnist data\n",
    "(mnist_images, mnist_labels), _ = tf.keras.datasets.mnist.load_data()\n",
    "\n",
    "dataset = tf.data.Dataset.from_tensor_slices(\n",
    "  (tf.cast(mnist_images[...,tf.newaxis]/255, tf.float32),\n",
    "   tf.cast(mnist_labels,tf.int64)))\n",
    "dataset = dataset.shuffle(1000).batch(32)"
   ]
  },
  {
   "cell_type": "code",
   "execution_count": 17,
   "id": "ca8532e8",
   "metadata": {},
   "outputs": [],
   "source": [
    "# Build the model\n",
    "mnist_model = tf.keras.Sequential([\n",
    "  tf.keras.layers.Conv2D(16,[3,3], activation='relu',\n",
    "                         input_shape=(None, None, 1)),\n",
    "  tf.keras.layers.Conv2D(16,[3,3], activation='relu'),\n",
    "  tf.keras.layers.GlobalAveragePooling2D(),\n",
    "  tf.keras.layers.Dense(10)\n",
    "])"
   ]
  },
  {
   "cell_type": "code",
   "execution_count": 18,
   "id": "a41f7542",
   "metadata": {},
   "outputs": [
    {
     "name": "stdout",
     "output_type": "stream",
     "text": [
      "Logits:  [[-0.03673956  0.01568081 -0.02212567  0.00119896  0.00864087 -0.00465332\n",
      "  -0.06325376 -0.01802111 -0.01361521  0.014974  ]]\n"
     ]
    }
   ],
   "source": [
    "for images,labels in dataset.take(1):\n",
    "    print(\"Logits: \", mnist_model(images[0:1]).numpy())"
   ]
  },
  {
   "cell_type": "markdown",
   "id": "4a7594ac",
   "metadata": {},
   "source": [
    "Хотя модели keras имеют встроенный цикл обучения (с использованием метода fit), иногда вам требуется дополнительная настройка. Вот пример цикла обучения, реализованного с помощью eager:"
   ]
  },
  {
   "cell_type": "code",
   "execution_count": 19,
   "id": "dfd2477a",
   "metadata": {},
   "outputs": [],
   "source": [
    "optimizer = tf.keras.optimizers.Adam()\n",
    "loss_object = tf.keras.losses.SparseCategoricalCrossentropy(from_logits=True)\n",
    "\n",
    "loss_history = []"
   ]
  },
  {
   "cell_type": "code",
   "execution_count": 20,
   "id": "37759baa",
   "metadata": {},
   "outputs": [],
   "source": [
    "def train_step(images, labels):\n",
    "    with tf.GradientTape() as tape:\n",
    "        logits = mnist_model(images, training=True)\n",
    "\n",
    "        # Add asserts to check the shape of the output.\n",
    "        tf.debugging.assert_equal(logits.shape, (32, 10))\n",
    "\n",
    "        loss_value = loss_object(labels, logits)\n",
    "\n",
    "    loss_history.append(loss_value.numpy().mean())\n",
    "    grads = tape.gradient(loss_value, mnist_model.trainable_variables)\n",
    "    optimizer.apply_gradients(zip(grads, mnist_model.trainable_variables))"
   ]
  },
  {
   "cell_type": "code",
   "execution_count": 21,
   "id": "486752bf",
   "metadata": {},
   "outputs": [],
   "source": [
    "def train(epochs):\n",
    "    for epoch in range(epochs):\n",
    "        for (batch, (images, labels)) in enumerate(dataset):\n",
    "            train_step(images, labels)\n",
    "        print ('Epoch {} finished'.format(epoch))"
   ]
  },
  {
   "cell_type": "code",
   "execution_count": 22,
   "id": "12ddd6f2",
   "metadata": {},
   "outputs": [
    {
     "name": "stdout",
     "output_type": "stream",
     "text": [
      "Epoch 0 finished\n",
      "Epoch 1 finished\n",
      "Epoch 2 finished\n"
     ]
    }
   ],
   "source": [
    "train(epochs = 3)"
   ]
  },
  {
   "cell_type": "code",
   "execution_count": 23,
   "id": "a80d7bb2",
   "metadata": {},
   "outputs": [
    {
     "data": {
      "text/plain": [
       "Text(0, 0.5, 'Loss [entropy]')"
      ]
     },
     "execution_count": 23,
     "metadata": {},
     "output_type": "execute_result"
    },
    {
     "data": {
      "image/png": "[encoded data removed]",
      "text/plain": [
       "<Figure size 432x288 with 1 Axes>"
      ]
     },
     "metadata": {
      "needs_background": "light"
     },
     "output_type": "display_data"
    }
   ],
   "source": [
    "import matplotlib.pyplot as plt\n",
    "\n",
    "plt.plot(loss_history)\n",
    "plt.xlabel('Batch #')\n",
    "plt.ylabel('Loss [entropy]')"
   ]
  },
  {
   "cell_type": "markdown",
   "id": "e9a8519d",
   "metadata": {},
   "source": [
    "Переменные и оптимизаторы\n",
    "\n",
    "Объекты tf.Variable хранят изменяемые tf.Tensor-подобные значения, к которым осуществляется доступ во время обучения, чтобы упростить автоматическое дифференцирование.\n",
    "\n",
    "Коллекции переменных могут быть инкапсулированы в слои или модели вместе с методами, которые с ними работают. См. Подробности в разделе Пользовательские слои и модели Keras. Основное различие между слоями и моделями заключается в том, что модели добавляют такие методы, как Model.fit, Model.evaluate и Model.save.\n",
    "\n",
    "Например, приведенный выше пример автоматического дифференцирования можно переписать: \n",
    "\n",
    "Variables and optimizers\n",
    "\n",
    "tf.Variable objects store mutable tf.Tensor-like values accessed during training to make automatic differentiation easier.\n",
    "\n",
    "The collections of variables can be encapsulated into layers or models, along with methods that operate on them. See Custom Keras layers and models for details. The main difference between layers and models is that models add methods like Model.fit, Model.evaluate, and Model.save.\n",
    "\n",
    "For example, the automatic differentiation example above can be rewritten:"
   ]
  }
 ],
 "metadata": {
  "kernelspec": {
   "display_name": "Python 3 (ipykernel)",
   "language": "python",
   "name": "python3"
  },
  "language_info": {
   "codemirror_mode": {
    "name": "ipython",
    "version": 3
   },
   "file_extension": ".py",
   "mimetype": "text/x-python",
   "name": "python",
   "nbconvert_exporter": "python",
   "pygments_lexer": "ipython3",
   "version": "3.9.5"
  }
 },
 "nbformat": 4,
 "nbformat_minor": 5
}
